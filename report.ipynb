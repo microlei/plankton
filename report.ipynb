{
 "cells": [
  {
   "cell_type": "markdown",
   "metadata": {},
   "source": [
    "# Introduction\n",
    "\n",
    "Plankton are microorganisms that form the base of the aquatic food chain. Photosynthetic plankton also play a crucial role in the global carbon cycle, as well as producing much of the world's oxygen. Because of their importance to the marine ecosystem, monitoring the health of the plankton population is a key component of oceanic research. One method to monitor plankton populations over time is through in-situ imaging of individual planktonic organisms. In-situ monitoring allows for the collection of not just abundance data but also morphological information on various species of plankton. "
   ]
  }
 ],
 "metadata": {
  "language_info": {
   "name": "python"
  }
 },
 "nbformat": 4,
 "nbformat_minor": 2
}
